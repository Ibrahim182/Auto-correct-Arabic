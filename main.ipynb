{
 "cells": [
  {
   "cell_type": "code",
   "execution_count": 1,
   "metadata": {},
   "outputs": [],
   "source": [
    "from process import AutoCoreect\n",
    "import json"
   ]
  },
  {
   "cell_type": "code",
   "execution_count": 2,
   "metadata": {},
   "outputs": [],
   "source": [
    "json_file = 'ar_arz_wiki_corpus.json'\n",
    "def return_words(json_file):\n",
    "    file = open(json_file)\n",
    "    words = []\n",
    "    for Line in file:\n",
    "        articl = json.loads(Line)\n",
    "        words.append(articl['text'])\n",
    "    words = ' '.join(words)\n",
    "    words = words.split()\n",
    "    return words"
   ]
  },
  {
   "cell_type": "code",
   "execution_count": 3,
   "metadata": {},
   "outputs": [],
   "source": [
    "all_words = return_words(json_file)\n",
    "letters = 'أبتثجحخدذرزسشصضطظعغفقكلمنهويءؤاآإى'"
   ]
  },
  {
   "cell_type": "code",
   "execution_count": 4,
   "metadata": {},
   "outputs": [],
   "source": [
    "AutoCorect = AutoCoreect(all_words, letters)"
   ]
  },
  {
   "cell_type": "code",
   "execution_count": 5,
   "metadata": {},
   "outputs": [
    {
     "name": "stdout",
     "output_type": "stream",
     "text": [
      "note enter اخرج for exist the program\n",
      "Enter your sentence: السلطم عليكم\n",
      "suggestion word for wrong word السلطم is السلام\n",
      "السلام عليكم\n",
      "Enter your sentence: اهلط البيت\n",
      "suggestion word for wrong word اهلط is اهل\n",
      "اهل البيت\n",
      "Enter your sentence: العلوم كقيرة\n",
      "suggestion word for wrong word كقيرة is كبيرة\n",
      "العلوم كبيرة\n",
      "Enter your sentence: علوم البياتات\n",
      "suggestion word for wrong word البياتات is البايتات\n",
      "علوم البايتات\n",
      "Enter your sentence: بلابابلابلا\n",
      "suggestion word for wrong word بلابابلابلا can't find\n",
      "بلابابلابلا\n",
      "Enter your sentence: اخرج\n"
     ]
    }
   ],
   "source": [
    "unique_words = set(all_words)\n",
    "print(\"note enter اخرج for exist the program\")\n",
    "while True:\n",
    "    sentece = input('Enter your sentence: ').split()\n",
    "    if sentece[0] != \"اخرج\":\n",
    "        new_list = []\n",
    "        # to check each word in sentence\n",
    "        for word in sentece:\n",
    "            # if word in dictionary append it in new_list without any operation\n",
    "            if word in unique_words:\n",
    "                new_list.append(word)\n",
    "            # else pass the word in get_result function in class to return if there is a right word can be return or not\n",
    "            else:\n",
    "                new_word = AutoCorect.get_result(word)\n",
    "                # check if there is a right wird or not\n",
    "                if new_word != False:\n",
    "                    print(\"suggestion word for wrong word {} is {}\".format(word,new_word))\n",
    "                    new_list.append(new_word)\n",
    "                else:\n",
    "                    print(\"suggestion word for wrong word {} can't find\".format(word))\n",
    "                    new_list.append(word)\n",
    "        # make join to return the words as a sentence again\n",
    "        print(' '.join(new_list))\n",
    "    else:\n",
    "        break"
   ]
  },
  {
   "cell_type": "code",
   "execution_count": 7,
   "metadata": {},
   "outputs": [
    {
     "data": {
      "text/plain": [
       "True"
      ]
     },
     "execution_count": 7,
     "metadata": {},
     "output_type": "execute_result"
    }
   ],
   "source": [
    "\"البايتات\" in unique_words"
   ]
  },
  {
   "cell_type": "code",
   "execution_count": null,
   "metadata": {},
   "outputs": [],
   "source": []
  }
 ],
 "metadata": {
  "kernelspec": {
   "display_name": "Python 3 (ipykernel)",
   "language": "python",
   "name": "python3"
  },
  "language_info": {
   "codemirror_mode": {
    "name": "ipython",
    "version": 3
   },
   "file_extension": ".py",
   "mimetype": "text/x-python",
   "name": "python",
   "nbconvert_exporter": "python",
   "pygments_lexer": "ipython3",
   "version": "3.7.6"
  }
 },
 "nbformat": 4,
 "nbformat_minor": 4
}
